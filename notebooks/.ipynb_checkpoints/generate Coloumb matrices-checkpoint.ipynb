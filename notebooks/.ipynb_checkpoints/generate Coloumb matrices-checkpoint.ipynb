{
 "cells": [
  {
   "cell_type": "code",
   "execution_count": 1,
   "metadata": {},
   "outputs": [],
   "source": [
    "%load_ext autoreload\n",
    "%autoreload 2\n",
    "import pandas as pd\n",
    "import matplotlib.pyplot as plt\n",
    "import numpy as np\n",
    "from sklearn.dummy import DummyRegressor\n",
    "from sklearn.model_selection import KFold, ShuffleSplit\n",
    "from sklearn.kernel_ridge import KernelRidge\n",
    "from sklearn.linear_model import Ridge, Lasso, LinearRegression, BayesianRidge\n",
    "import warnings\n",
    "warnings.filterwarnings(\"ignore\")\n",
    "from mmltoolkit.CV_tools import *\n",
    "from mmltoolkit.featurizations import * \n",
    "from mmltoolkit.fingerprints import * \n",
    "\n",
    "#Read the data\n",
    "data = pd.read_excel('../datasets/combined_data.xlsx', skipfooter=46)\n",
    "\n",
    "#Add some new columns\n",
    "data['Mols'] = data['SMILES'].apply(Chem.MolFromSmiles)\n",
    "\n",
    "#important - add hydrogens!!\n",
    "data['Mols'] = data['Mols'].apply(Chem.AddHs)\n",
    "\n",
    "num_mols = len(data)\n",
    "\n"
   ]
  },
  {
   "cell_type": "code",
   "execution_count": 3,
   "metadata": {},
   "outputs": [],
   "source": [
    "from mmltoolkit.descriptors import *\n",
    "\n",
    "bond_types, X_LBoB = literal_bag_of_bonds(list(data['Mols'])) \n",
    "\n",
    "num_atoms = []\n",
    "for mol in data['Mols']:\n",
    "    mol = Chem.AddHs(mol)\n",
    "    num_atoms += [mol.GetNumAtoms()]\n",
    "    \n",
    "max_atoms = int(max(num_atoms))\n",
    "\n",
    "X_Cmat_as_vec = np.zeros((num_mols, (max_atoms**2-max_atoms)//2 + max_atoms))\n",
    "X_Cmat_eigs = np.zeros((num_mols, max_atoms))\n",
    "X_Cmat_unsorted_eigs = np.zeros((num_mols, max_atoms))\n",
    "\n",
    "X_summedBoB = []\n",
    "filename_list = []\n",
    "\n",
    "for i, refcode in enumerate(data['Name']):\n",
    "    if (i >= 307):\n",
    "        filename = '../HM_all_xyz_files/'+refcode+'.xyz'\n",
    "    else:\n",
    "        filename = '../sensitivity_xyz/'+str(i)+'.xyz'\n",
    "    \n",
    "    this_Cmat_eigs, this_Cmat_as_vec = coulombmat_and_eigenvalues_as_vec(filename, max_atoms )\n",
    "    #this_Cmat_unsorted_eigs, this_Cmat_as_vec = coulombmat_and_eigenvalues_as_vec(filename, max_atoms, sort=False)\n",
    "\n",
    "    #summed_BoB_feature_names, summedBoB = summed_bag_of_bonds(filename)\n",
    "    #X_summedBoB += [summedBoB]\n",
    "\n",
    "    filename_list += [filename]\n",
    "    \n",
    "    X_Cmat_eigs[i,:] = this_Cmat_eigs\n",
    "    #X_Cmat_unsorted_eigs[i,:] = this_Cmat_eigs\n",
    "    # X_Cmat_as_vec[i,:] = this_Cmat_as_vec\n",
    "\n",
    "#X_summedBoB = np.array(X_summedBoB)\n",
    "\n",
    "#BoB_feature_list, X_BoB = bag_of_bonds(filename_list, verbose=False)\n",
    "\n",
    "\n",
    "#data['Oxygen Balance_100'] = data['Mols'].apply(oxygen_balance_100)\n",
    "#data['modified OB'] = data['Mols'].apply(modified_oxy_balance)\n",
    "#data['OB atom counts'] = data['Mols'].apply(return_atom_nums_modified_OB)\n",
    "#data['combined_nums'] =  data['Mols'].apply(return_combined_nums)\n",
    "\n",
    "\n",
    "#X_OB100 = np.array(list(data['Oxygen Balance_100'])).reshape(-1,1)     \n",
    "#X_OB1600 = np.array(list(data['Oxygen Balance_1600'])).reshape(-1,1)     \n",
    "#X_OBmod = np.array(list(data['modified OB'])).reshape(-1,1)   \n",
    "#X_OB_atom_counts = np.array(list(data['OB atom counts']))\n",
    "#X_combined = np.array(list(data['combined_nums']))\n",
    "\n",
    "#X_Estate_combined = np.concatenate((X_Estate, X_combined), axis=1)\n",
    "#X_Estate_combined_Cmat_eigs = np.concatenate((X_Estate_combined, X_Cmat_eigs), axis=1)\n",
    "#X_Estate_combined_lit_BoB = Estate_CDS_LBoB_featurizer(list(data['Mols']))\n",
    "#X_CustDesrip_lit_BoB = np.concatenate(( X_combined, X_LBoB), axis=1)\n",
    "\n",
    "                             \n"
   ]
  },
  {
   "cell_type": "code",
   "execution_count": 4,
   "metadata": {},
   "outputs": [
    {
     "data": {
      "text/plain": [
       "Index(['Name', 'short name', 'note', 'group', 'density g/cm3',\n",
       "       'gas-phase formation enthalpy', 'sublimation enthalpy',\n",
       "       'heat of explosion (kJ/g , but note sensitivity data did not report units, and values are different?) ',\n",
       "       'detonation velocity (km/s)', 'detonation pressure (GPa)',\n",
       "       'Gurney energy', 'h50 (obs)', 'Reference', 'SMILES', 'Mols'],\n",
       "      dtype='object')"
      ]
     },
     "execution_count": 4,
     "metadata": {},
     "output_type": "execute_result"
    }
   ],
   "source": [
    "data.columns"
   ]
  },
  {
   "cell_type": "markdown",
   "metadata": {},
   "source": [
    "## Create spreadsheet with all Coulomb matrices from both the Huang & Massa and the Sensitivity database sets"
   ]
  },
  {
   "cell_type": "code",
   "execution_count": 6,
   "metadata": {
    "collapsed": true
   },
   "outputs": [],
   "source": [
    "Y1 = np.array(data['detonation velocity (km/s)']).reshape(-1,1)\n",
    "Y2 = np.array(data['detonation pressure (GPa)']).reshape(-1,1)\n",
    "Y3 = np.array(data['density g/cm3']).reshape(-1,1)"
   ]
  },
  {
   "cell_type": "code",
   "execution_count": 7,
   "metadata": {},
   "outputs": [
    {
     "data": {
      "text/plain": [
       "(370, 87)"
      ]
     },
     "execution_count": 7,
     "metadata": {},
     "output_type": "execute_result"
    }
   ],
   "source": [
    "X_Cmat_eigs.shape"
   ]
  },
  {
   "cell_type": "code",
   "execution_count": 8,
   "metadata": {
    "collapsed": true
   },
   "outputs": [],
   "source": [
    "np.savetxt('combined_dataset_Coulomb_matrix_eigenvalues_416_mols.csv', np.concatenate([X_Cmat_eigs,Y1, Y2, Y3],axis=1), delimiter=',')"
   ]
  },
  {
   "cell_type": "code",
   "execution_count": 10,
   "metadata": {},
   "outputs": [],
   "source": [
    "featurization_dict = {\n",
    "                  # \"Estate\": X_Estate,\n",
    "                 #\"Oxygen balance$_{100}$\": X_OB100, \n",
    "                 #\"Oxygen balance$_{1600}$\": X_OB1600, \n",
    "                 #\"Oxygen balance atom counts\": X_OB_atom_counts,\n",
    "                 #\"CDS\": X_combined,\n",
    "                 #\"SoB\" : X_LBoB,\n",
    "                 #'Estate+CDS':   X_Estate_combined,\n",
    "                 #\"Coulomb matrices as vec\" :   X_Cmat_as_vec,\n",
    "                 \"CM eigs\": X_Cmat_eigs,\n",
    "                 #\"Bag of Bonds\": X_BoB,\n",
    "                 #\"Summed Bag of Bonds (sBoB)\": X_summedBoB, \n",
    "                 #\"\\\\footnotesize{Estate+CDS+SoB}\":X_Estate_combined_lit_BoB,\n",
    "                 #\"C.D.S + LBoB\": X_CustDesrip_lit_BoB,\n",
    "                 #\"LBoB + OB100\": np.concatenate(( X_LBoB, X_OB100), axis=1)\n",
    "                }\n"
   ]
  },
  {
   "cell_type": "code",
   "execution_count": 13,
   "metadata": {},
   "outputs": [
    {
     "data": {
      "text/plain": [
       "Index(['Name', 'short name', 'note', 'group', 'density g/cm3',\n",
       "       'gas-phase formation enthalpy', 'sublimation enthalpy',\n",
       "       'heat of explosion (kJ/g , but note sensitivity data did not report units, and values are different?) ',\n",
       "       'detonation velocity (km/s)', 'detonation pressure (GPa)',\n",
       "       'Gurney energy', 'h50 (obs)', 'Reference', 'SMILES', 'Mols'],\n",
       "      dtype='object')"
      ]
     },
     "execution_count": 13,
     "metadata": {},
     "output_type": "execute_result"
    }
   ],
   "source": [
    "data.columns"
   ]
  },
  {
   "cell_type": "code",
   "execution_count": 15,
   "metadata": {},
   "outputs": [],
   "source": [
    "y = np.array(list(data['detonation velocity (km/s)']))\n"
   ]
  },
  {
   "cell_type": "code",
   "execution_count": null,
   "metadata": {},
   "outputs": [],
   "source": [
    "\n",
    "nested_grid_search_CV(X_LBoB, y, Ridge(), {\"alpha\": np.logspace(-6, 6, 150)}, name='',  verbose=True, n_jobs=-1)"
   ]
  }
 ],
 "metadata": {
  "kernelspec": {
   "display_name": "Python 3",
   "language": "python",
   "name": "python3"
  },
  "language_info": {
   "codemirror_mode": {
    "name": "ipython",
    "version": 3
   },
   "file_extension": ".py",
   "mimetype": "text/x-python",
   "name": "python",
   "nbconvert_exporter": "python",
   "pygments_lexer": "ipython3",
   "version": "3.6.1"
  }
 },
 "nbformat": 4,
 "nbformat_minor": 2
}

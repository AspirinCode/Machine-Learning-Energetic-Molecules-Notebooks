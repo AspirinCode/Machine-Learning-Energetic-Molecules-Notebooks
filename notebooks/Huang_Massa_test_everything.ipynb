{
 "cells": [
  {
   "cell_type": "markdown",
   "metadata": {},
   "source": [
    "# Load data"
   ]
  },
  {
   "cell_type": "code",
   "execution_count": 1,
   "metadata": {
    "collapsed": true
   },
   "outputs": [],
   "source": [
    "%load_ext autoreload\n",
    "%autoreload 2\n",
    "import pandas as pd\n",
    "import matplotlib.pyplot as plt\n",
    "import numpy as np\n",
    "from sklearn.dummy import DummyRegressor\n",
    "from sklearn.model_selection import KFold, ShuffleSplit\n",
    "from sklearn.kernel_ridge import KernelRidge\n",
    "from sklearn.linear_model import Ridge, Lasso, LinearRegression, BayesianRidge\n",
    "import warnings\n",
    "warnings.filterwarnings(\"ignore\")\n",
    "from mmltoolkit.CV_tools import *\n",
    "from mmltoolkit.featurizations import * \n",
    "from mmltoolkit.fingerprints import * \n",
    "\n",
    "#Read the data\n",
    "data = pd.read_excel('../datasets/Huang_Massa_data_with_all_SMILES.xlsx', skipfooter=1)\n",
    "\n",
    "target_prop = 'Explosive energy (kj/cc)'\n",
    "\n",
    "#Add some new columns\n",
    "data['Mols'] = data['SMILES'].apply(Chem.MolFromSmiles)\n",
    "\n",
    "\n",
    "#important - add hydrogens!!\n",
    "data['Mols'] = data['Mols'].apply(Chem.AddHs)\n",
    "\n",
    "\n",
    "X_Estate = truncated_Estate_featurizer(list(data['Mols']))\n",
    "\n",
    "\n",
    "num_mols = len(data)\n",
    "\n",
    "targets = [\n",
    " 'Density (g/cm3)',\n",
    " 'Delta Hf solid (kj/mol)',\n",
    " 'Explosive energy (kj/cc)',\n",
    " 'Shock velocity (km/s)',\n",
    " 'Particle velocity (km/s)',\n",
    " 'Speed of sound (km/s)',\n",
    " 'Pressure (Gpa)',\n",
    " 'T(K)',\n",
    " 'TNT Equiv (per cc)'\n",
    "  ]\n",
    "\n",
    "\n"
   ]
  },
  {
   "cell_type": "code",
   "execution_count": 2,
   "metadata": {},
   "outputs": [
    {
     "data": {
      "text/plain": [
       "Index(['num', 'Molecular Name', 'Formula', 'Density (g/cm3)',\n",
       "       'Delta Hf solid (kj/mol)', 'Explosive energy (kj/cc)',\n",
       "       'Shock velocity (km/s)', 'Particle velocity (km/s)',\n",
       "       'Speed of sound (km/s)', 'Pressure (Gpa)', 'T(K)', 'TNT Equiv (per cc)',\n",
       "       'group', 'SMILES', 'NOTE', 'Mols'],\n",
       "      dtype='object')"
      ]
     },
     "execution_count": 2,
     "metadata": {},
     "output_type": "execute_result"
    }
   ],
   "source": [
    "data.columns"
   ]
  },
  {
   "cell_type": "markdown",
   "metadata": {},
   "source": [
    "# Generate featurizations"
   ]
  },
  {
   "cell_type": "code",
   "execution_count": 3,
   "metadata": {
    "collapsed": true
   },
   "outputs": [],
   "source": [
    "from mmltoolkit.descriptors import *\n",
    "from mmltoolkit.featurizations import *\n",
    "\n",
    "\n",
    "bond_types, X_LBoB = literal_bag_of_bonds(list(data['Mols'])) \n",
    "\n",
    "num_atoms = []\n",
    "for mol in data['Mols']:\n",
    "    mol = Chem.AddHs(mol)\n",
    "    num_atoms += [mol.GetNumAtoms()]\n",
    "    \n",
    "max_atoms = int(max(num_atoms))\n",
    "\n",
    "X_Cmat_as_vec = np.zeros((num_mols, (max_atoms**2-max_atoms)//2 + max_atoms))\n",
    "X_Cmat_eigs = np.zeros((num_mols, max_atoms))\n",
    "X_Cmat_unsorted_eigs = np.zeros((num_mols, max_atoms))\n",
    "\n",
    "X_summedBoB = []\n",
    "filename_list = []\n",
    "\n",
    "for i, refcode in enumerate(data['Molecular Name']):\n",
    "    filename = '../HM_all_xyz_files/'+refcode+'.xyz'\n",
    "    this_Cmat_eigs, this_Cmat_as_vec = coulombmat_and_eigenvalues_as_vec(filename, max_atoms )\n",
    "    this_Cmat_unsorted_eigs, this_Cmat_as_vec = coulombmat_and_eigenvalues_as_vec(filename, max_atoms, sort=False)\n",
    "\n",
    "    summed_BoB_feature_names, summedBoB = summed_bag_of_bonds(filename)\n",
    "    X_summedBoB += [summedBoB]\n",
    "\n",
    "    filename_list += [filename]\n",
    "    \n",
    "    X_Cmat_eigs[i,:] = this_Cmat_eigs\n",
    "    X_Cmat_unsorted_eigs[i,:] = this_Cmat_eigs\n",
    "    X_Cmat_as_vec[i,:] = this_Cmat_as_vec\n",
    "\n",
    "X_summedBoB = np.array(X_summedBoB)\n",
    "\n",
    "BoB_feature_list, X_BoB = bag_of_bonds(filename_list, verbose=False)\n",
    "\n",
    "\n",
    "data['Oxygen Balance_100'] = data['Mols'].apply(oxygen_balance_100)\n",
    "data['Oxygen Balance_1600'] = data['Mols'].apply(oxygen_balance_1600)\n",
    "\n",
    "data['modified OB'] = data['Mols'].apply(modified_oxy_balance)\n",
    "data['OB atom counts'] = data['Mols'].apply(return_atom_nums_modified_OB)\n",
    "data['combined_nums'] =  data['Mols'].apply(return_combined_nums)\n",
    "\n",
    "\n",
    "X_OB100 = np.array(list(data['Oxygen Balance_100'])).reshape(-1,1)     \n",
    "X_OB1600 = np.array(list(data['Oxygen Balance_1600'])).reshape(-1,1)     \n",
    "X_OBmod = np.array(list(data['modified OB'])).reshape(-1,1)   \n",
    "X_OB_atom_counts = np.array(list(data['OB atom counts']))\n",
    "X_combined = np.array(list(data['combined_nums']))\n",
    "\n",
    "X_Estate_combined = np.concatenate((X_Estate, X_combined), axis=1)\n",
    "X_Estate_combined_Cmat_eigs = np.concatenate((X_Estate_combined, X_Cmat_eigs), axis=1)\n",
    "X_Estate_combined_lit_BoB = Estate_CDS_LBoB_featurizer(list(data['Mols']))\n",
    "X_CustDesrip_lit_BoB = np.concatenate(( X_combined, X_LBoB), axis=1)\n",
    "\n",
    "                             \n"
   ]
  },
  {
   "cell_type": "code",
   "execution_count": 4,
   "metadata": {
    "collapsed": true
   },
   "outputs": [],
   "source": [
    "featurization_dict = {\n",
    "                 \"Estate\": X_Estate,\n",
    "                 \"Oxygen balance$_{100}$\": X_OB100, \n",
    "                 \"Oxygen balance$_{1600}$\": X_OB1600, \n",
    "                 \"Oxygen balance atom counts\": X_OB_atom_counts,\n",
    "                 \"CDS\": X_combined,\n",
    "                 \"SoB\" : X_LBoB,\n",
    "                 'Estate+CDS':   X_Estate_combined,\n",
    "                 \"Coulomb matrices as vec\" :   X_Cmat_as_vec,\n",
    "                 \"CM eigs\": X_Cmat_eigs,\n",
    "                 \"Bag of Bonds\": X_BoB,\n",
    "                 \"Summed Bag of Bonds (sBoB)\": X_summedBoB, \n",
    "                 \"\\\\footnotesize{Estate+CDS+SoB}\":X_Estate_combined_lit_BoB,\n",
    "                 \"C.D.S + LBoB\": X_CustDesrip_lit_BoB,\n",
    "                 \"LBoB + OB100\": np.concatenate(( X_LBoB, X_OB100), axis=1)\n",
    "                }\n",
    "\n",
    "targets = [\n",
    " #'Density (g/cm3)',\n",
    " #'Delta Hf solid (kj/mol)',\n",
    " 'Explosive energy (kj/cc)',\n",
    " #'Shock velocity (km/s)',\n",
    " #'Particle velocity (km/s)',\n",
    " #'Speed of sound (km/s)',\n",
    " #'Pressure (Gpa)',\n",
    " #'T(K)',\n",
    " #'TNT Equiv (per cc)'\n",
    "  ]\n"
   ]
  },
  {
   "cell_type": "code",
   "execution_count": null,
   "metadata": {
    "collapsed": true
   },
   "outputs": [],
   "source": [
    "y = np.array(list(data['Explosive energy (kj/cc)']))\n"
   ]
  },
  {
   "cell_type": "markdown",
   "metadata": {},
   "source": [
    "# Run test_everything within notebook "
   ]
  },
  {
   "cell_type": "code",
   "execution_count": null,
   "metadata": {},
   "outputs": [
    {
     "name": "stdout",
     "output_type": "stream",
     "text": [
      "running target Explosive energy (kj/cc)\n",
      "    testing featurization C.D.S + LBoB\n",
      "doing outer fold 1 of 20\n",
      "best params:  {'gamma': 0.00031992671377973844, 'kernel_params': None, 'degree': 3, 'alpha': 0.0053535666774107192, 'coef0': 1, 'kernel': 'rbf'}\n",
      "doing outer fold 2 of 20\n",
      "best params:  {'gamma': 0.0014508287784959432, 'kernel_params': None, 'degree': 3, 'alpha': 0.021214517849106277, 'coef0': 1, 'kernel': 'rbf'}\n",
      "doing outer fold 3 of 20\n"
     ]
    }
   ],
   "source": [
    "from mmltoolkit.test_everything import * \n",
    "from sklearn.model_selection import ShuffleSplit \n",
    "\n",
    "(results, best) = test_everything(data, featurization_dict, targets, verbose=True, normalize=True )\n",
    "\n"
   ]
  },
  {
   "cell_type": "markdown",
   "metadata": {},
   "source": [
    "# Save to pickle file"
   ]
  },
  {
   "cell_type": "code",
   "execution_count": null,
   "metadata": {
    "collapsed": true
   },
   "outputs": [],
   "source": [
    "#import pickle\n",
    "#pickle.dump( results, open( \"test_all_results3.pkl\", \"wb\" ) )\n",
    "#pickle.dump( best, open( \"test_all_best3.pkl\", \"wb\" ) )"
   ]
  },
  {
   "cell_type": "markdown",
   "metadata": {},
   "source": [
    "# Load test_everything results from .pkl "
   ]
  },
  {
   "cell_type": "code",
   "execution_count": 38,
   "metadata": {
    "collapsed": true
   },
   "outputs": [],
   "source": [
    "import pickle\n",
    "\n",
    "results = pickle.load(open( \"all_nested_results_KRR_SoB.pkl\", \"rb\" ))\n",
    "best = pickle.load( open( \"all_nested_best_KRR_SoB.pkl\", \"rb\" ) ) \n"
   ]
  },
  {
   "cell_type": "code",
   "execution_count": 39,
   "metadata": {},
   "outputs": [
    {
     "name": "stdout",
     "output_type": "stream",
     "text": [
      "{'Delta Hf solid (kj/mol)': {'SoB': {'KRR': {'MAE': 68.72948215026273,\n",
      "                                             'MAE_std': 16.250305057909,\n",
      "                                             'MAE_std_train': 10.962421710864264,\n",
      "                                             'MAE_train': 24.165554185197937,\n",
      "                                             'MAPE': 64.23294590510596,\n",
      "                                             'R2': 0.9301394795866109,\n",
      "                                             'R2_train': 0.9932014794627397,\n",
      "                                             'RMSE': 100.33310335228752,\n",
      "                                             'rP': 0.9388849369750949,\n",
      "                                             'rP_train': 0.9932330058506867}}},\n",
      " 'Density (g/cm3)': {'SoB': {'KRR': {'MAE': 0.0653346975387568,\n",
      "                                     'MAE_std': 0.011681024736317469,\n",
      "                                     'MAE_std_train': 0.00910102184354365,\n",
      "                                     'MAE_train': 0.03260160953498744,\n",
      "                                     'MAPE': 3.6198950615042627,\n",
      "                                     'R2': 0.5889650126945536,\n",
      "                                     'R2_train': 0.8899077275224494,\n",
      "                                     'RMSE': 0.08485458756764172,\n",
      "                                     'rP': 0.6602393809845327,\n",
      "                                     'rP_train': 0.8917355295816487}}},\n",
      " 'Explosive energy (kj/cc)': {'SoB': {'KRR': {'MAE': 0.40469944050714124,\n",
      "                                              'MAE_std': 0.05751992233469668,\n",
      "                                              'MAE_std_train': 0.02501959153674625,\n",
      "                                              'MAE_train': 0.257086993497487,\n",
      "                                              'MAPE': 13.084810011954428,\n",
      "                                              'R2': 0.6933179539304263,\n",
      "                                              'R2_train': 0.846961210992353,\n",
      "                                              'RMSE': 0.5182418391076935,\n",
      "                                              'rP': 0.7504004911552686,\n",
      "                                              'rP_train': 0.8506040103361583}}},\n",
      " 'Particle velocity (km/s)': {'SoB': {'KRR': {'MAE': 0.08883009626586674,\n",
      "                                              'MAE_std': 0.01778898475178717,\n",
      "                                              'MAE_std_train': 0.005581736803792313,\n",
      "                                              'MAE_train': 0.06554691713067932,\n",
      "                                              'MAPE': 4.517151353295705,\n",
      "                                              'R2': 0.608311244580606,\n",
      "                                              'R2_train': 0.8244363371418982,\n",
      "                                              'RMSE': 0.11699393405702944,\n",
      "                                              'rP': 0.6864420573889192,\n",
      "                                              'rP_train': 0.8272381038635919}}},\n",
      " 'Pressure (Gpa)': {'SoB': {'KRR': {'MAE': 2.900228616399427,\n",
      "                                    'MAE_std': 0.44116451937006734,\n",
      "                                    'MAE_std_train': 0.1940472222089604,\n",
      "                                    'MAE_train': 1.7973592307620572,\n",
      "                                    'MAPE': 9.755160030273123,\n",
      "                                    'R2': 0.6868994062248606,\n",
      "                                    'R2_train': 0.8797373501709576,\n",
      "                                    'RMSE': 3.666932284972817,\n",
      "                                    'rP': 0.7376271633544581,\n",
      "                                    'rP_train': 0.8825100394449745}}},\n",
      " 'Shock velocity (km/s)': {'SoB': {'KRR': {'MAE': 0.31297472519194286,\n",
      "                                           'MAE_std': 0.04092085200230163,\n",
      "                                           'MAE_std_train': 0.022627556592643292,\n",
      "                                           'MAE_train': 0.18912194091464726,\n",
      "                                           'MAPE': 3.7638832729372154,\n",
      "                                           'R2': 0.6677947371545054,\n",
      "                                           'R2_train': 0.899836777053691,\n",
      "                                           'RMSE': 0.4024332934941171,\n",
      "                                           'rP': 0.7150818454164505,\n",
      "                                           'rP_train': 0.9007118754952467}}},\n",
      " 'Speed of sound (km/s)': {'SoB': {'KRR': {'MAE': 0.25388787221161835,\n",
      "                                           'MAE_std': 0.0436179379118775,\n",
      "                                           'MAE_std_train': 0.021864772940394524,\n",
      "                                           'MAE_train': 0.1667638678914624,\n",
      "                                           'MAPE': 4.050024940720554,\n",
      "                                           'R2': 0.6971356125812409,\n",
      "                                           'R2_train': 0.8853602113548698,\n",
      "                                           'RMSE': 0.32568438808862593,\n",
      "                                           'rP': 0.7435224492249011,\n",
      "                                           'rP_train': 0.8864522615667536}}},\n",
      " 'T(K)': {'SoB': {'KRR': {'MAE': 331.3566965842194,\n",
      "                          'MAE_std': 63.56133686453812,\n",
      "                          'MAE_std_train': 33.790055299584075,\n",
      "                          'MAE_train': 235.6111846527212,\n",
      "                          'MAPE': 10.479808941644285,\n",
      "                          'R2': 0.5229743898139356,\n",
      "                          'R2_train': 0.7714008553959228,\n",
      "                          'RMSE': 480.3763364469102,\n",
      "                          'rP': 0.5915816016188387,\n",
      "                          'rP_train': 0.7751949380042382}}},\n",
      " 'TNT Equiv (per cc)': {'SoB': {'KRR': {'MAE': 0.11244314093628674,\n",
      "                                        'MAE_std': 0.02849610489269791,\n",
      "                                        'MAE_std_train': 0.010403864316251062,\n",
      "                                        'MAE_train': 0.08753930459941117,\n",
      "                                        'MAPE': 8.173888965289382,\n",
      "                                        'R2': 0.6941900524134516,\n",
      "                                        'R2_train': 0.7557114056482065,\n",
      "                                        'RMSE': 0.1601703057973607,\n",
      "                                        'rP': 0.7261717729520043,\n",
      "                                        'rP_train': 0.7582738983569745}}}}\n"
     ]
    }
   ],
   "source": [
    "from pprint import PrettyPrinter\n",
    "\n",
    "pp = PrettyPrinter()\n",
    "\n",
    "pp.pprint(results)"
   ]
  },
  {
   "cell_type": "markdown",
   "metadata": {
    "collapsed": true
   },
   "source": [
    "# print table of from results dictionary "
   ]
  },
  {
   "cell_type": "code",
   "execution_count": 40,
   "metadata": {},
   "outputs": [
    {
     "name": "stdout",
     "output_type": "stream",
     "text": [
      "The autoreload extension is already loaded. To reload it, use:\n",
      "  %reload_ext autoreload\n",
      "\\begin{table*}[ht]\n",
      "\\begin{tabular}{ccccccccccc}\n",
      " &  & \\footnotesize{$\\rho ,\\frac{\\hbox{g}}{\\hbox{cc}}$ } & \\footnotesize{$\\Delta H_f^{\\ff{s}} ,\\frac{\\hbox{kJ}}{\\hbox{mol}}$ } & \\footnotesize{$E_{\\ff{e}} ,\\frac{\\hbox{kJ}}{\\hbox{cc}}$ } & \\footnotesize{$V_{\\ff{s}} ,\\frac{\\hbox{km}}{\\hbox{s}}$ } & \\footnotesize{$V_{\\ff{p}},\\frac{\\hbox{km}}{\\hbox{s}}$ } & \\footnotesize{$V_{\\ff{snd}},\\frac{\\hbox{km}}{\\hbox{s}}$ } & \\footnotesize{$P$, GPa} & \\footnotesize{$T$, K} & \\footnotesize{$\\frac{\\hbox{TNT}_{\\ff{equiv}}}{\\hbox{cc}}$ } \\\\\n",
      "\\hline\n",
      "KRR & SoB & \\bf{ 0.07} & \\bf{68.73} & \\bf{ 0.40} & \\bf{ 0.31} & \\bf{ 0.09} & \\bf{ 0.25} & \\bf{ 2.90} & \\bf{331.36} & \\bf{ 0.11}\\\\\n",
      "\\end{tabular}\n",
      "\\end{table*}\n"
     ]
    }
   ],
   "source": [
    "%load_ext autoreload\n",
    "%autoreload 2\n",
    "from mmltoolkit.test_everything import print_everything\n",
    "targets = [\n",
    " 'Density (g/cm3)',\n",
    " 'Delta Hf solid (kj/mol)',\n",
    " 'Explosive energy (kj/cc)',\n",
    " 'Shock velocity (km/s)',\n",
    " 'Particle velocity (km/s)',\n",
    " 'Speed of sound (km/s)',\n",
    " 'Pressure (Gpa)',\n",
    " 'T(K)',\n",
    " 'TNT Equiv (per cc)'\n",
    "  ]\n",
    "print_everything(results, best, targets)"
   ]
  },
  {
   "cell_type": "markdown",
   "metadata": {},
   "source": [
    "# Print table with standard deviation values "
   ]
  },
  {
   "cell_type": "code",
   "execution_count": 34,
   "metadata": {},
   "outputs": [
    {
     "name": "stdout",
     "output_type": "stream",
     "text": [
      "\\begin{table*}\n",
      "\\begin{tabular}{ccccccccccc}\n",
      " &  & \\footnotesize{$\\rho ,\\frac{\\hbox{g}}{\\hbox{cc}}$ } & \\footnotesize{$\\Delta H_f^{\\ff{s}} ,\\frac{\\hbox{kJ}}{\\hbox{mol}}$ } & \\footnotesize{$E_{\\ff{e}} ,\\frac{\\hbox{kJ}}{\\hbox{cc}}$ } & \\footnotesize{$V_{\\ff{s}} ,\\frac{\\hbox{km}}{\\hbox{s}}$ } & \\footnotesize{$V_{\\ff{p}},\\frac{\\hbox{km}}{\\hbox{s}}$ } & \\footnotesize{$V_{\\ff{snd}},\\frac{\\hbox{km}}{\\hbox{s}}$ } & \\footnotesize{$P$, GPa} & \\footnotesize{$T$, K} & \\footnotesize{$\\frac{\\hbox{TNT}_{\\ff{equiv}}}{\\hbox{cc}}$ } \\\\\n",
      "\\hline\n",
      "KRR & Estate &  0.10$^{0.02}$ & 261.02$^{65.62}$ &  0.63$^{0.08}$ &  0.48$^{0.11}$ &  0.13$^{0.03}$ &  0.41$^{0.08}$ &  4.95$^{0.76}$ & 500.19$^{88.25}$ &  0.18$^{0.03}$\\\\\n",
      " & CDS &  0.08$^{0.02}$ & 198.81$^{27.18}$ &  0.50$^{0.10}$ &  0.44$^{0.10}$ &  0.11$^{0.02}$ &  0.37$^{0.08}$ &  3.07$^{0.65}$ & 462.63$^{106.87}$ &  0.17$^{0.04}$\\\\\n",
      " & CM eigs &  0.09$^{0.03}$ & 288.41$^{55.58}$ &  0.67$^{0.17}$ &  0.67$^{0.14}$ &  0.18$^{0.04}$ &  0.61$^{0.19}$ &  5.67$^{0.90}$ & 600.08$^{120.78}$ &  0.22$^{0.04}$\\\\\n",
      " & Bag of Bonds &  0.06$^{0.01}$ & 166.66$^{46.73}$ &  0.47$^{0.07}$ &  0.33$^{0.04}$ &  0.11$^{0.02}$ & \\bf{ 0.29}$^{0.08}$ &  3.38$^{0.60}$ & 478.93$^{90.37}$ &  0.18$^{0.03}$\\\\\n",
      " & \\footnotesize{Estate+CDS+SoB} & \\bf{ 0.06}$^{0.01}$ & \\bf{71.40}$^{17.25}$ & \\bf{ 0.36}$^{0.05}$ & \\bf{ 0.32}$^{0.05}$ & \\bf{ 0.10}$^{0.02}$ &  0.29$^{0.03}$ & \\bf{ 2.76}$^{0.45}$ & \\bf{359.66}$^{75.69}$ & \\bf{ 0.13}$^{0.03}$\\\\\n",
      " & OB$_{1600}$ &  0.07$^{0.02}$ & 368.32$^{67.00}$ &  0.48$^{0.08}$ &  0.53$^{0.11}$ &  0.18$^{0.22}$ &  0.50$^{0.18}$ &  3.43$^{0.98}$ & 704.57$^{457.68}$ &  0.22$^{0.04}$\\\\\n",
      "mean & Estate &  0.11$^{0.02}$ & 309.75$^{48.28}$ &  0.69$^{0.11}$ &  0.65$^{0.08}$ &  0.15$^{0.03}$ &  0.55$^{0.07}$ &  4.88$^{0.79}$ & 629.20$^{91.62}$ &  0.22$^{0.04}$\\\\\n",
      " & CDS &  0.10$^{0.02}$ & 310.61$^{55.69}$ &  0.70$^{0.12}$ &  0.65$^{0.10}$ &  0.16$^{0.04}$ &  0.54$^{0.09}$ &  5.31$^{0.98}$ & 609.56$^{105.01}$ &  0.22$^{0.03}$\\\\\n",
      " & CM eigs &  0.10$^{0.02}$ & 352.59$^{52.64}$ &  0.71$^{0.13}$ &  0.64$^{0.10}$ &  0.17$^{0.02}$ &  0.54$^{0.07}$ &  5.39$^{0.43}$ & 590.93$^{79.39}$ &  0.23$^{0.03}$\\\\\n",
      " & Bag of Bonds &  0.10$^{0.02}$ & 339.09$^{66.09}$ &  0.73$^{0.12}$ &  0.60$^{0.08}$ &  0.15$^{0.02}$ &  0.54$^{0.07}$ &  5.12$^{0.74}$ & 633.88$^{99.20}$ &  0.24$^{0.03}$\\\\\n",
      " & \\footnotesize{Estate+CDS+SoB} &  0.09$^{0.01}$ & 327.00$^{66.33}$ &  0.66$^{0.12}$ &  0.68$^{0.10}$ &  0.17$^{0.03}$ &  0.53$^{0.06}$ &  5.19$^{1.06}$ & 593.30$^{65.58}$ &  0.22$^{0.03}$\\\\\n",
      " & OB$_{1600}$ &  0.10$^{0.02}$ & 341.75$^{64.89}$ &  0.71$^{0.12}$ &  0.65$^{0.12}$ &  0.15$^{0.02}$ &  0.56$^{0.09}$ &  5.11$^{1.08}$ & 625.02$^{74.91}$ &  0.21$^{0.03}$\\\\\n",
      "\\end{tabular}\n",
      "\\end{table*}\n"
     ]
    }
   ],
   "source": [
    " \n",
    "\n",
    "target_short_names = {\n",
    " 'Density (g/cm3)':'\\\\footnotesize{$\\\\rho ,\\\\frac{\\\\hbox{g}}{\\\\hbox{cc}}$ }',\n",
    " 'Delta Hf solid (kj/mol)': '\\\\footnotesize{$\\Delta H_f^{\\\\ff{s}} ,\\\\frac{\\\\hbox{kJ}}{\\\\hbox{mol}}$ }',\n",
    " 'Explosive energy (kj/cc)': '\\\\footnotesize{$E_{\\\\ff{e}} ,\\\\frac{\\\\hbox{kJ}}{\\\\hbox{cc}}$ }',\n",
    " 'Shock velocity (km/s)': '\\\\footnotesize{$V_{\\\\ff{s}} ,\\\\frac{\\\\hbox{km}}{\\\\hbox{s}}$ }',\n",
    " 'Particle velocity (km/s)': '\\\\footnotesize{$V_{\\\\ff{p}},\\\\frac{\\\\hbox{km}}{\\\\hbox{s}}$ }',\n",
    " 'Speed of sound (km/s)': '\\\\footnotesize{$V_{\\\\ff{snd}},\\\\frac{\\\\hbox{km}}{\\\\hbox{s}}$ }',\n",
    " 'Pressure (Gpa)': '\\\\footnotesize{$P$, GPa}',\n",
    " 'T(K)': '\\\\footnotesize{$T$, K}',\n",
    " 'TNT Equiv (per cc)': '\\\\footnotesize{$\\\\frac{\\\\hbox{TNT}_{\\\\ff{equiv}}}{\\\\hbox{cc}}$ }' \n",
    "}\n",
    "\n",
    "\n",
    "\n",
    "print(\"\\\\begin{table*}\")\n",
    "print(\"\\\\begin{tabular}{cc\",end='')\n",
    "for l in range(len(targets)):\n",
    "      print(\"c\",end='')\n",
    "print(\"}\")\n",
    "print(\" & \",end='')\n",
    "for target in targets:\n",
    "    print(\" & \"+target_short_names[target], end='')\n",
    "print(\" \\\\\\\\\")\n",
    "print(\"\\\\hline\")\n",
    "featurizations = list(results[targets[0]].keys())\n",
    "models = list(results[targets[0]][featurizations[0]].keys())\n",
    "for model in models:\n",
    "    for (i, featurization) in enumerate(featurizations):\n",
    "        if(i == 0):\n",
    "            print(model+\" & \", end='')\n",
    "        else:\n",
    "            print(\" & \", end='')\n",
    "        print(featurization+\" & \", end='')\n",
    "        for (j, target) in enumerate(targets): \n",
    "            scores_dict = results[target][featurization][model]\n",
    "            #print(\" %5.2f, %4.2f  \" % (scores_dict['MAPE'], scores_dict['r2']), end='')\n",
    "            #print(\" %5.2f \" % (scores_dict['MAPE']), end='')\n",
    "            #print(\"%4.2f\" % (scores_dict['r2']), end='')\n",
    "\n",
    "            if ([featurization, model] == best[target]):\n",
    "                print(\"\\\\bf{%5.2f}$^{%4.2f}$\" % (scores_dict['MAE'], scores_dict['MAE_std']), end='')\n",
    "            else:\n",
    "                print(\"%5.2f$^{%4.2f}$\" % (scores_dict['MAE'], scores_dict['MAE_std']), end='')\n",
    "            \n",
    "            if (j == len(targets)-1):\n",
    "                print(\"\\\\\\\\\")\n",
    "            else:\n",
    "                print(\" & \", end='')\n",
    "\n",
    "        \n",
    "print(\"\\\\end{tabular}\")\n",
    "print(\"\\\\end{table*}\")"
   ]
  },
  {
   "cell_type": "markdown",
   "metadata": {},
   "source": [
    "# Print table with confidence intervals from t-values"
   ]
  },
  {
   "cell_type": "code",
   "execution_count": 32,
   "metadata": {},
   "outputs": [
    {
     "name": "stdout",
     "output_type": "stream",
     "text": [
      "\\begin{table*}\n",
      "\\begin{tabular}{ccccccccccc}\n",
      " &  & \\footnotesize{$\\rho ,\\frac{\\hbox{g}}{\\hbox{cc}}$ } & \\footnotesize{$\\Delta H_f^{\\ff{s}} ,\\frac{\\hbox{kJ}}{\\hbox{mol}}$ } & \\footnotesize{$E_{\\ff{e}} ,\\frac{\\hbox{kJ}}{\\hbox{cc}}$ } & \\footnotesize{$V_{\\ff{s}} ,\\frac{\\hbox{km}}{\\hbox{s}}$ } & \\footnotesize{$V_{\\ff{p}},\\frac{\\hbox{km}}{\\hbox{s}}$ } & \\footnotesize{$V_{\\ff{snd}},\\frac{\\hbox{km}}{\\hbox{s}}$ } & \\footnotesize{$P$, GPa} & \\footnotesize{$T$, K} & \\footnotesize{$\\frac{\\hbox{TNT}_{\\ff{equiv}}}{\\hbox{cc}}$ } \\\\\n",
      "\\hline\n",
      "SVR & Estate &  0.09$^{0.10}_{0.09}$ & 207.78$^{234.27}_{181.30}$ &  0.60$^{0.64}_{0.57}$ &  0.45$^{0.50}_{0.41}$ &  0.13$^{0.14}_{0.11}$ &  0.35$^{0.37}_{0.33}$ &  4.41$^{4.81}_{4.00}$ & 476.06$^{518.97}_{433.15}$ &  0.17$^{0.18}_{0.16}$\\\\\n",
      " & CDS &  0.07$^{0.08}_{0.07}$ & 223.24$^{257.71}_{188.77}$ &  0.52$^{0.56}_{0.49}$ &  0.34$^{0.37}_{0.31}$ &  0.12$^{0.13}_{0.11}$ &  0.32$^{0.35}_{0.29}$ &  3.21$^{3.42}_{3.01}$ & 436.81$^{475.64}_{397.99}$ &  0.18$^{0.19}_{0.16}$\\\\\n",
      " & SoB &  0.06$^{0.07}_{0.06}$ & 130.78$^{152.42}_{109.13}$ &  0.40$^{0.43}_{0.37}$ & \\bf{ 0.31}$^{0.33}_{0.29}$ &  0.10$^{0.11}_{0.09}$ &  0.28$^{0.30}_{0.26}$ &  2.97$^{3.16}_{2.78}$ & 331.27$^{364.66}_{297.88}$ &  0.14$^{0.16}_{0.13}$\\\\\n",
      " & CM eigs &  0.08$^{0.09}_{0.07}$ & 288.41$^{326.75}_{250.08}$ &  0.55$^{0.58}_{0.52}$ &  0.60$^{0.65}_{0.55}$ &  0.15$^{0.16}_{0.14}$ &  0.53$^{0.58}_{0.48}$ &  4.54$^{4.94}_{4.13}$ & 584.44$^{624.58}_{544.29}$ &  0.21$^{0.23}_{0.20}$\\\\\n",
      " & Bag of Bonds &  0.07$^{0.08}_{0.07}$ & 159.24$^{188.03}_{130.45}$ &  0.47$^{0.50}_{0.44}$ &  0.35$^{0.37}_{0.32}$ &  0.12$^{0.12}_{0.11}$ &  0.28$^{0.31}_{0.26}$ &  3.34$^{3.53}_{3.15}$ & 385.59$^{419.20}_{351.97}$ &  0.18$^{0.19}_{0.17}$\\\\\n",
      " & \\footnotesize{Estate+CDS+SoB} &  0.06$^{0.06}_{0.05}$ & 129.89$^{148.84}_{110.93}$ &  0.37$^{0.40}_{0.35}$ &  0.34$^{0.38}_{0.31}$ &  0.10$^{0.10}_{0.09}$ &  0.28$^{0.31}_{0.26}$ & \\bf{ 2.73}$^{2.91}_{2.55}$ & 353.18$^{379.95}_{326.41}$ &  0.13$^{0.15}_{0.12}$\\\\\n",
      " & OB$_{1600}$ &  0.07$^{0.08}_{0.06}$ & 337.94$^{373.47}_{302.41}$ &  0.52$^{0.56}_{0.47}$ &  0.44$^{0.47}_{0.41}$ &  0.12$^{0.13}_{0.11}$ &  0.41$^{0.43}_{0.38}$ &  3.78$^{4.02}_{3.54}$ & 546.42$^{590.40}_{502.44}$ &  0.19$^{0.20}_{0.18}$\\\\\n",
      "Ridge & Estate &  0.09$^{0.10}_{0.09}$ & 269.11$^{302.51}_{235.70}$ &  0.58$^{0.63}_{0.53}$ &  0.57$^{0.60}_{0.53}$ &  0.14$^{0.15}_{0.13}$ &  0.45$^{0.48}_{0.42}$ &  4.71$^{5.01}_{4.41}$ & 491.21$^{534.08}_{448.34}$ &  0.19$^{0.20}_{0.17}$\\\\\n",
      " & CDS &  0.07$^{0.07}_{0.06}$ & 193.19$^{207.17}_{179.21}$ &  0.43$^{0.47}_{0.40}$ &  0.39$^{0.43}_{0.35}$ &  0.11$^{0.12}_{0.10}$ &  0.33$^{0.35}_{0.31}$ &  3.23$^{3.56}_{2.91}$ & 438.27$^{467.92}_{408.61}$ &  0.17$^{0.18}_{0.15}$\\\\\n",
      " & SoB & \\bf{ 0.06}$^{0.06}_{0.05}$ & 82.00$^{88.76}_{75.24}$ & \\bf{ 0.37}$^{0.40}_{0.34}$ &  0.32$^{0.34}_{0.30}$ &  0.10$^{0.11}_{0.09}$ &  0.29$^{0.31}_{0.27}$ &  3.01$^{3.20}_{2.82}$ & \\bf{327.43}$^{358.22}_{296.65}$ & \\bf{ 0.11}$^{0.12}_{0.11}$\\\\\n",
      " & CM eigs &  0.09$^{0.10}_{0.08}$ & 355.12$^{396.42}_{313.81}$ &  0.79$^{0.92}_{0.65}$ &  0.60$^{0.64}_{0.57}$ &  0.16$^{0.19}_{0.13}$ &  0.55$^{0.59}_{0.51}$ &  5.82$^{6.37}_{5.26}$ & 590.69$^{635.69}_{545.69}$ &  0.19$^{0.20}_{0.18}$\\\\\n",
      " & Bag of Bonds &  0.06$^{0.07}_{0.06}$ & 163.76$^{185.79}_{141.74}$ &  0.48$^{0.51}_{0.45}$ &  0.32$^{0.35}_{0.29}$ &  0.11$^{0.12}_{0.10}$ &  0.31$^{0.33}_{0.29}$ &  3.37$^{3.67}_{3.07}$ & 472.93$^{512.03}_{433.83}$ &  0.19$^{0.21}_{0.18}$\\\\\n",
      " & \\footnotesize{Estate+CDS+SoB} &  0.06$^{0.06}_{0.06}$ & \\bf{77.31}$^{84.13}_{70.48}$ &  0.39$^{0.41}_{0.36}$ &  0.32$^{0.33}_{0.31}$ &  0.10$^{0.11}_{0.09}$ &  0.28$^{0.31}_{0.25}$ &  2.78$^{2.95}_{2.60}$ & 383.07$^{415.60}_{350.54}$ &  0.13$^{0.14}_{0.12}$\\\\\n",
      " & OB$_{1600}$ &  0.06$^{0.07}_{0.06}$ & 362.89$^{396.80}_{328.98}$ &  0.49$^{0.54}_{0.45}$ &  0.51$^{0.54}_{0.47}$ &  0.11$^{0.12}_{0.10}$ &  0.46$^{0.49}_{0.43}$ &  3.39$^{3.65}_{3.12}$ & 545.27$^{575.00}_{515.54}$ &  0.19$^{0.20}_{0.18}$\\\\\n",
      "RF & Estate &  0.09$^{0.10}_{0.09}$ & 252.74$^{291.84}_{213.65}$ &  0.59$^{0.64}_{0.54}$ &  0.50$^{0.54}_{0.46}$ &  0.14$^{0.15}_{0.13}$ &  0.39$^{0.42}_{0.36}$ &  4.09$^{4.38}_{3.80}$ & 488.98$^{534.33}_{443.63}$ &  0.19$^{0.21}_{0.18}$\\\\\n",
      " & CDS &  0.07$^{0.08}_{0.07}$ & 241.67$^{265.41}_{217.93}$ &  0.46$^{0.50}_{0.43}$ &  0.36$^{0.39}_{0.33}$ &  0.11$^{0.12}_{0.10}$ &  0.29$^{0.32}_{0.27}$ &  3.34$^{3.57}_{3.11}$ & 435.77$^{475.37}_{396.17}$ &  0.16$^{0.18}_{0.15}$\\\\\n",
      " & SoB &  0.07$^{0.08}_{0.07}$ & 136.91$^{157.28}_{116.55}$ &  0.48$^{0.51}_{0.45}$ &  0.40$^{0.44}_{0.37}$ &  0.12$^{0.13}_{0.10}$ &  0.30$^{0.33}_{0.28}$ &  3.47$^{3.74}_{3.21}$ & 417.46$^{456.54}_{378.39}$ &  0.15$^{0.16}_{0.13}$\\\\\n",
      " & CM eigs &  0.09$^{0.10}_{0.08}$ & 286.89$^{311.55}_{262.23}$ &  0.67$^{0.72}_{0.61}$ &  0.62$^{0.66}_{0.58}$ &  0.15$^{0.17}_{0.14}$ &  0.51$^{0.56}_{0.47}$ &  5.52$^{6.02}_{5.02}$ & 512.22$^{550.43}_{474.00}$ &  0.20$^{0.22}_{0.18}$\\\\\n",
      " & Bag of Bonds &  0.07$^{0.07}_{0.06}$ & 172.41$^{194.19}_{150.63}$ &  0.46$^{0.50}_{0.43}$ &  0.36$^{0.39}_{0.33}$ &  0.10$^{0.11}_{0.10}$ &  0.29$^{0.32}_{0.25}$ &  3.10$^{3.29}_{2.92}$ & 418.35$^{449.87}_{386.83}$ &  0.16$^{0.18}_{0.15}$\\\\\n",
      " & \\footnotesize{Estate+CDS+SoB} &  0.07$^{0.08}_{0.07}$ & 144.18$^{165.03}_{123.34}$ &  0.43$^{0.47}_{0.39}$ &  0.34$^{0.36}_{0.31}$ & \\bf{ 0.09}$^{0.10}_{0.08}$ & \\bf{ 0.26}$^{0.29}_{0.24}$ &  3.11$^{3.39}_{2.82}$ & 401.27$^{441.52}_{361.01}$ &  0.15$^{0.16}_{0.14}$\\\\\n",
      " & OB$_{1600}$ &  0.08$^{0.08}_{0.07}$ & 443.56$^{473.61}_{413.51}$ &  0.48$^{0.53}_{0.43}$ &  0.48$^{0.51}_{0.46}$ &  0.12$^{0.13}_{0.11}$ &  0.45$^{0.48}_{0.42}$ &  3.58$^{3.95}_{3.21}$ & 611.27$^{654.07}_{568.47}$ &  0.21$^{0.23}_{0.19}$\\\\\n",
      "kNN & Estate &  0.08$^{0.09}_{0.08}$ & 236.55$^{266.19}_{206.91}$ &  0.61$^{0.64}_{0.57}$ &  0.49$^{0.52}_{0.46}$ &  0.15$^{0.16}_{0.14}$ &  0.41$^{0.43}_{0.38}$ &  4.30$^{4.62}_{3.99}$ & 563.89$^{609.25}_{518.53}$ &  0.20$^{0.21}_{0.18}$\\\\\n",
      " & CDS &  0.07$^{0.08}_{0.07}$ & 242.99$^{271.36}_{214.62}$ &  0.55$^{0.59}_{0.51}$ &  0.39$^{0.42}_{0.36}$ &  0.13$^{0.14}_{0.12}$ &  0.33$^{0.35}_{0.30}$ &  3.56$^{3.75}_{3.38}$ & 478.50$^{508.42}_{448.57}$ &  0.18$^{0.19}_{0.17}$\\\\\n",
      " & SoB &  0.08$^{0.08}_{0.07}$ & 184.43$^{209.57}_{159.29}$ &  0.54$^{0.58}_{0.50}$ &  0.44$^{0.48}_{0.39}$ &  0.12$^{0.14}_{0.11}$ &  0.36$^{0.38}_{0.33}$ &  3.65$^{3.93}_{3.38}$ & 427.20$^{461.44}_{392.96}$ &  0.17$^{0.19}_{0.16}$\\\\\n",
      " & CM eigs &  0.10$^{0.11}_{0.09}$ & 343.48$^{368.70}_{318.27}$ &  0.62$^{0.67}_{0.56}$ &  0.67$^{0.72}_{0.62}$ &  0.15$^{0.16}_{0.13}$ &  0.51$^{0.54}_{0.49}$ &  5.52$^{5.84}_{5.21}$ & 570.55$^{604.71}_{536.39}$ &  0.22$^{0.24}_{0.21}$\\\\\n",
      " & Bag of Bonds &  0.08$^{0.09}_{0.07}$ & 238.05$^{258.83}_{217.27}$ &  0.53$^{0.57}_{0.49}$ &  0.40$^{0.44}_{0.37}$ &  0.11$^{0.12}_{0.10}$ &  0.32$^{0.35}_{0.29}$ &  3.58$^{3.88}_{3.29}$ & 515.25$^{546.78}_{483.71}$ &  0.19$^{0.20}_{0.18}$\\\\\n",
      " & \\footnotesize{Estate+CDS+SoB} &  0.08$^{0.08}_{0.07}$ & 171.65$^{195.35}_{147.94}$ &  0.54$^{0.59}_{0.49}$ &  0.43$^{0.46}_{0.40}$ &  0.12$^{0.13}_{0.11}$ &  0.35$^{0.37}_{0.33}$ &  3.57$^{3.76}_{3.37}$ & 442.14$^{476.56}_{407.73}$ &  0.17$^{0.18}_{0.16}$\\\\\n",
      " & OB$_{1600}$ &  0.08$^{0.08}_{0.07}$ & 333.95$^{359.50}_{308.41}$ &  0.49$^{0.53}_{0.44}$ &  0.50$^{0.53}_{0.46}$ &  0.11$^{0.12}_{0.10}$ &  0.45$^{0.49}_{0.42}$ &  3.45$^{3.73}_{3.17}$ & 515.62$^{554.44}_{476.80}$ &  0.19$^{0.21}_{0.17}$\\\\\n",
      "\\end{tabular}\n",
      "\\end{table*}\n"
     ]
    }
   ],
   "source": [
    "from scipy.stats import t\n",
    "from numpy import average, std\n",
    "from math import sqrt\n",
    "\n",
    " \n",
    "\n",
    "target_short_names = {\n",
    " 'Density (g/cm3)':'\\\\footnotesize{$\\\\rho ,\\\\frac{\\\\hbox{g}}{\\\\hbox{cc}}$ }',\n",
    " 'Delta Hf solid (kj/mol)': '\\\\footnotesize{$\\Delta H_f^{\\\\ff{s}} ,\\\\frac{\\\\hbox{kJ}}{\\\\hbox{mol}}$ }',\n",
    " 'Explosive energy (kj/cc)': '\\\\footnotesize{$E_{\\\\ff{e}} ,\\\\frac{\\\\hbox{kJ}}{\\\\hbox{cc}}$ }',\n",
    " 'Shock velocity (km/s)': '\\\\footnotesize{$V_{\\\\ff{s}} ,\\\\frac{\\\\hbox{km}}{\\\\hbox{s}}$ }',\n",
    " 'Particle velocity (km/s)': '\\\\footnotesize{$V_{\\\\ff{p}},\\\\frac{\\\\hbox{km}}{\\\\hbox{s}}$ }',\n",
    " 'Speed of sound (km/s)': '\\\\footnotesize{$V_{\\\\ff{snd}},\\\\frac{\\\\hbox{km}}{\\\\hbox{s}}$ }',\n",
    " 'Pressure (Gpa)': '\\\\footnotesize{$P$, GPa}',\n",
    " 'T(K)': '\\\\footnotesize{$T$, K}',\n",
    " 'TNT Equiv (per cc)': '\\\\footnotesize{$\\\\frac{\\\\hbox{TNT}_{\\\\ff{equiv}}}{\\\\hbox{cc}}$ }' \n",
    "}\n",
    "\n",
    "\n",
    "\n",
    "\n",
    "num_DOF = 19\n",
    " \n",
    "t_bounds = t.interval(0.95, num_DOF)\n",
    "t_value = t_bounds[1]   \n",
    "    \n",
    "\n",
    "print(\"\\\\begin{table*}\")\n",
    "print(\"\\\\begin{tabular}{cc\",end='')\n",
    "for l in range(len(targets)):\n",
    "      print(\"c\",end='')\n",
    "print(\"}\")\n",
    "print(\" & \",end='')\n",
    "for target in targets:\n",
    "    print(\" & \"+target_short_names[target], end='')\n",
    "print(\" \\\\\\\\\")\n",
    "print(\"\\\\hline\")\n",
    "featurizations = list(results[targets[0]].keys())\n",
    "models = list(results[targets[0]][featurizations[0]].keys())\n",
    "for model in models:\n",
    "    for (i, featurization) in enumerate(featurizations):\n",
    "        if(i == 0):\n",
    "            print(model+\" & \", end='')\n",
    "        else:\n",
    "            print(\" & \", end='')\n",
    "        print(featurization+\" & \", end='')\n",
    "        for (j, target) in enumerate(targets): \n",
    "            scores_dict = results[target][featurization][model]\n",
    "            #print(\" %5.2f, %4.2f  \" % (scores_dict['MAPE'], scores_dict['r2']), end='')\n",
    "            #print(\" %5.2f \" % (scores_dict['MAPE']), end='')\n",
    "            #print(\"%4.2f\" % (scores_dict['r2']), end='')\n",
    "            mean = scores_dict['MAE']\n",
    "            stddev = scores_dict['MAE_std']\n",
    "            upper = mean + t_value*stddev/sqrt(num_DOF)\n",
    "            lower = mean - t_value*stddev/sqrt(num_DOF)\n",
    "\n",
    "            if ([featurization, model] == best[target]):\n",
    "                print(\"\\\\bf{%5.2f}$^{%4.2f}_{%4.2f}$\" % (scores_dict['MAE'], upper, lower), end='')\n",
    "            else:\n",
    "                print(\"%5.2f$^{%4.2f}_{%4.2f}$\" % (scores_dict['MAE'], upper, lower), end='')\n",
    "            \n",
    "            if (j == len(targets)-1):\n",
    "                print(\"\\\\\\\\\")\n",
    "            else:\n",
    "                print(\" & \", end='')\n",
    "\n",
    "        \n",
    "print(\"\\\\end{tabular}\")\n",
    "print(\"\\\\end{table*}\")"
   ]
  },
  {
   "cell_type": "code",
   "execution_count": null,
   "metadata": {
    "collapsed": true
   },
   "outputs": [],
   "source": []
  }
 ],
 "metadata": {
  "kernelspec": {
   "display_name": "Python 3",
   "language": "python",
   "name": "python3"
  },
  "language_info": {
   "codemirror_mode": {
    "name": "ipython",
    "version": 3
   },
   "file_extension": ".py",
   "mimetype": "text/x-python",
   "name": "python",
   "nbconvert_exporter": "python",
   "pygments_lexer": "ipython3",
   "version": "3.5.4"
  }
 },
 "nbformat": 4,
 "nbformat_minor": 2
}
